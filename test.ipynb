{
 "cells": [
  {
   "cell_type": "code",
   "execution_count": 11,
   "metadata": {},
   "outputs": [],
   "source": [
    "from langchain.document_loaders import JSONLoader"
   ]
  },
  {
   "cell_type": "code",
   "execution_count": 12,
   "metadata": {},
   "outputs": [],
   "source": [
    "import json\n",
    "from pathlib import Path\n",
    "from pprint import pprint\n",
    "\n",
    "\n",
    "file_path='E:\\\\DESKTOP\\\\FreeLanceProjects\\\\semirstepler\\\\AskDocsAI\\\\data\\\\users_profiles.json'\n",
    "data = json.loads(Path(file_path).read_text())"
   ]
  },
  {
   "cell_type": "code",
   "execution_count": 13,
   "metadata": {},
   "outputs": [
    {
     "data": {
      "text/plain": [
       "[{'user_id': '1',\n",
       "  'username': 'user1',\n",
       "  'full_name': 'Alice Johnson',\n",
       "  'email': 'alice@example.com',\n",
       "  'age': 28,\n",
       "  'gender': 'female',\n",
       "  'address': {'street': '456 Elm Street',\n",
       "   'city': 'Cityville',\n",
       "   'state': 'Stateville',\n",
       "   'zip_code': '54321'},\n",
       "  'interests': ['travel', 'cooking', 'reading'],\n",
       "  'preferences': {'theme': 'light',\n",
       "   'notifications': {'email': True, 'push': False}},\n",
       "  'posts': []},\n",
       " {'user_id': '2',\n",
       "  'username': 'user2',\n",
       "  'full_name': 'Bob Smith',\n",
       "  'email': 'bob@example.com',\n",
       "  'age': 35,\n",
       "  'gender': 'male',\n",
       "  'address': {'street': '789 Oak Avenue',\n",
       "   'city': 'Townsville',\n",
       "   'state': 'Countyville',\n",
       "   'zip_code': '98765'},\n",
       "  'interests': ['sports', 'music', 'gardening'],\n",
       "  'preferences': {'theme': 'dark',\n",
       "   'notifications': {'email': True, 'push': True}},\n",
       "  'posts': []},\n",
       " {'user_id': '3',\n",
       "  'username': 'user3',\n",
       "  'full_name': 'Eva Martinez',\n",
       "  'email': 'eva@example.com',\n",
       "  'age': 42,\n",
       "  'gender': 'female',\n",
       "  'address': {'street': '321 Pine Road',\n",
       "   'city': 'Villagetown',\n",
       "   'state': 'Villagestate',\n",
       "   'zip_code': '76543'},\n",
       "  'interests': ['art', 'history', 'photography'],\n",
       "  'preferences': {'theme': 'light',\n",
       "   'notifications': {'email': True, 'push': False}},\n",
       "  'posts': []},\n",
       " {'user_id': '4',\n",
       "  'username': 'user4',\n",
       "  'full_name': 'David Lee',\n",
       "  'email': 'david@example.com',\n",
       "  'age': 30,\n",
       "  'gender': 'male',\n",
       "  'address': {'street': '101 Maple Lane',\n",
       "   'city': 'Woodville',\n",
       "   'state': 'Foreststate',\n",
       "   'zip_code': '12345'},\n",
       "  'interests': ['technology', 'gaming', 'programming'],\n",
       "  'preferences': {'theme': 'dark',\n",
       "   'notifications': {'email': False, 'push': True}},\n",
       "  'posts': []}]"
      ]
     },
     "execution_count": 13,
     "metadata": {},
     "output_type": "execute_result"
    }
   ],
   "source": [
    "data"
   ]
  },
  {
   "cell_type": "code",
   "execution_count": 20,
   "metadata": {},
   "outputs": [
    {
     "name": "stdout",
     "output_type": "stream",
     "text": [
      "  user_id username      full_name              email  age  gender  \\\n",
      "0       1    user1  Alice Johnson  alice@example.com   28  female   \n",
      "1       2    user2      Bob Smith    bob@example.com   35    male   \n",
      "2       3    user3   Eva Martinez    eva@example.com   42  female   \n",
      "3       4    user4      David Lee  david@example.com   30    male   \n",
      "\n",
      "                                             address  \\\n",
      "0  {'street': '456 Elm Street', 'city': 'Cityvill...   \n",
      "1  {'street': '789 Oak Avenue', 'city': 'Townsvil...   \n",
      "2  {'street': '321 Pine Road', 'city': 'Villageto...   \n",
      "3  {'street': '101 Maple Lane', 'city': 'Woodvill...   \n",
      "\n",
      "                           interests  \\\n",
      "0         [travel, cooking, reading]   \n",
      "1         [sports, music, gardening]   \n",
      "2        [art, history, photography]   \n",
      "3  [technology, gaming, programming]   \n",
      "\n",
      "                                         preferences posts  \n",
      "0  {'theme': 'light', 'notifications': {'email': ...    []  \n",
      "1  {'theme': 'dark', 'notifications': {'email': '...    []  \n",
      "2  {'theme': 'light', 'notifications': {'email': ...    []  \n",
      "3  {'theme': 'dark', 'notifications': {'email': '...    []  \n"
     ]
    }
   ],
   "source": [
    "import pandas as pd\n",
    "\n",
    "data = [\n",
    "    {\n",
    "        \"user_id\": \"1\",\n",
    "        \"username\": \"user1\",\n",
    "        \"full_name\": \"Alice Johnson\",\n",
    "        \"email\": \"alice@example.com\",\n",
    "        \"age\": 28,\n",
    "        \"gender\": \"female\",\n",
    "        \"address\": {\n",
    "            \"street\": \"456 Elm Street\",\n",
    "            \"city\": \"Cityville\",\n",
    "            \"state\": \"Stateville\",\n",
    "            \"zip_code\": \"54321\"\n",
    "        },\n",
    "        \"interests\": [\"travel\", \"cooking\", \"reading\"],\n",
    "        \"preferences\": {\n",
    "            \"theme\": \"light\",\n",
    "            \"notifications\": {\n",
    "                \"email\": \"true\",\n",
    "                \"push\": \"false\"\n",
    "            }\n",
    "        },\n",
    "        \"posts\": []\n",
    "    },\n",
    "    {\n",
    "        \"user_id\": \"2\",\n",
    "        \"username\": \"user2\",\n",
    "        \"full_name\": \"Bob Smith\",\n",
    "        \"email\": \"bob@example.com\",\n",
    "        \"age\": 35,\n",
    "        \"gender\": \"male\",\n",
    "        \"address\": {\n",
    "            \"street\": \"789 Oak Avenue\",\n",
    "            \"city\": \"Townsville\",\n",
    "            \"state\": \"Countyville\",\n",
    "            \"zip_code\": \"98765\"\n",
    "        },\n",
    "        \"interests\": [\"sports\", \"music\", \"gardening\"],\n",
    "        \"preferences\": {\n",
    "            \"theme\": \"dark\",\n",
    "            \"notifications\": {\n",
    "                \"email\": \"true\",\n",
    "                \"push\": \"true\"\n",
    "            }\n",
    "        },\n",
    "        \"posts\": []\n",
    "    },\n",
    "    {\n",
    "        \"user_id\": \"3\",\n",
    "        \"username\": \"user3\",\n",
    "        \"full_name\": \"Eva Martinez\",\n",
    "        \"email\": \"eva@example.com\",\n",
    "        \"age\": 42,\n",
    "        \"gender\": \"female\",\n",
    "        \"address\": {\n",
    "            \"street\": \"321 Pine Road\",\n",
    "            \"city\": \"Villagetown\",\n",
    "            \"state\": \"Villagestate\",\n",
    "            \"zip_code\": \"76543\"\n",
    "        },\n",
    "        \"interests\": [\"art\", \"history\", \"photography\"],\n",
    "        \"preferences\": {\n",
    "            \"theme\": \"light\",\n",
    "            \"notifications\": {\n",
    "                \"email\": \"true\",\n",
    "                \"push\": \"false\"\n",
    "            }\n",
    "        },\n",
    "        \"posts\": []\n",
    "    },\n",
    "    {\n",
    "        \"user_id\": \"4\",\n",
    "        \"username\": \"user4\",\n",
    "        \"full_name\": \"David Lee\",\n",
    "        \"email\": \"david@example.com\",\n",
    "        \"age\": 30,\n",
    "        \"gender\": \"male\",\n",
    "        \"address\": {\n",
    "            \"street\": \"101 Maple Lane\",\n",
    "            \"city\": \"Woodville\",\n",
    "            \"state\": \"Foreststate\",\n",
    "            \"zip_code\": \"12345\"\n",
    "        },\n",
    "        \"interests\": [\"technology\", \"gaming\", \"programming\"],\n",
    "        \"preferences\": {\n",
    "            \"theme\": \"dark\",\n",
    "            \"notifications\": {\n",
    "                \"email\": \"false\",\n",
    "                \"push\": \"true\"\n",
    "            }\n",
    "        },\n",
    "        \"posts\": []\n",
    "    }\n",
    "]\n",
    "\n",
    "df = pd.DataFrame(data)"
   ]
  },
  {
   "cell_type": "code",
   "execution_count": 23,
   "metadata": {},
   "outputs": [
    {
     "data": {
      "text/html": [
       "<div>\n",
       "<style scoped>\n",
       "    .dataframe tbody tr th:only-of-type {\n",
       "        vertical-align: middle;\n",
       "    }\n",
       "\n",
       "    .dataframe tbody tr th {\n",
       "        vertical-align: top;\n",
       "    }\n",
       "\n",
       "    .dataframe thead th {\n",
       "        text-align: right;\n",
       "    }\n",
       "</style>\n",
       "<table border=\"1\" class=\"dataframe\">\n",
       "  <thead>\n",
       "    <tr style=\"text-align: right;\">\n",
       "      <th></th>\n",
       "      <th>user_id</th>\n",
       "      <th>username</th>\n",
       "      <th>full_name</th>\n",
       "      <th>email</th>\n",
       "      <th>age</th>\n",
       "      <th>gender</th>\n",
       "      <th>address</th>\n",
       "      <th>interests</th>\n",
       "      <th>preferences</th>\n",
       "      <th>posts</th>\n",
       "    </tr>\n",
       "  </thead>\n",
       "  <tbody>\n",
       "    <tr>\n",
       "      <th>0</th>\n",
       "      <td>1</td>\n",
       "      <td>user1</td>\n",
       "      <td>Alice Johnson</td>\n",
       "      <td>alice@example.com</td>\n",
       "      <td>28</td>\n",
       "      <td>female</td>\n",
       "      <td>{'street': '456 Elm Street', 'city': 'Cityvill...</td>\n",
       "      <td>[travel, cooking, reading]</td>\n",
       "      <td>{'theme': 'light', 'notifications': {'email': ...</td>\n",
       "      <td>[]</td>\n",
       "    </tr>\n",
       "    <tr>\n",
       "      <th>1</th>\n",
       "      <td>2</td>\n",
       "      <td>user2</td>\n",
       "      <td>Bob Smith</td>\n",
       "      <td>bob@example.com</td>\n",
       "      <td>35</td>\n",
       "      <td>male</td>\n",
       "      <td>{'street': '789 Oak Avenue', 'city': 'Townsvil...</td>\n",
       "      <td>[sports, music, gardening]</td>\n",
       "      <td>{'theme': 'dark', 'notifications': {'email': '...</td>\n",
       "      <td>[]</td>\n",
       "    </tr>\n",
       "    <tr>\n",
       "      <th>2</th>\n",
       "      <td>3</td>\n",
       "      <td>user3</td>\n",
       "      <td>Eva Martinez</td>\n",
       "      <td>eva@example.com</td>\n",
       "      <td>42</td>\n",
       "      <td>female</td>\n",
       "      <td>{'street': '321 Pine Road', 'city': 'Villageto...</td>\n",
       "      <td>[art, history, photography]</td>\n",
       "      <td>{'theme': 'light', 'notifications': {'email': ...</td>\n",
       "      <td>[]</td>\n",
       "    </tr>\n",
       "    <tr>\n",
       "      <th>3</th>\n",
       "      <td>4</td>\n",
       "      <td>user4</td>\n",
       "      <td>David Lee</td>\n",
       "      <td>david@example.com</td>\n",
       "      <td>30</td>\n",
       "      <td>male</td>\n",
       "      <td>{'street': '101 Maple Lane', 'city': 'Woodvill...</td>\n",
       "      <td>[technology, gaming, programming]</td>\n",
       "      <td>{'theme': 'dark', 'notifications': {'email': '...</td>\n",
       "      <td>[]</td>\n",
       "    </tr>\n",
       "  </tbody>\n",
       "</table>\n",
       "</div>"
      ],
      "text/plain": [
       "  user_id username      full_name              email  age  gender  \\\n",
       "0       1    user1  Alice Johnson  alice@example.com   28  female   \n",
       "1       2    user2      Bob Smith    bob@example.com   35    male   \n",
       "2       3    user3   Eva Martinez    eva@example.com   42  female   \n",
       "3       4    user4      David Lee  david@example.com   30    male   \n",
       "\n",
       "                                             address  \\\n",
       "0  {'street': '456 Elm Street', 'city': 'Cityvill...   \n",
       "1  {'street': '789 Oak Avenue', 'city': 'Townsvil...   \n",
       "2  {'street': '321 Pine Road', 'city': 'Villageto...   \n",
       "3  {'street': '101 Maple Lane', 'city': 'Woodvill...   \n",
       "\n",
       "                           interests  \\\n",
       "0         [travel, cooking, reading]   \n",
       "1         [sports, music, gardening]   \n",
       "2        [art, history, photography]   \n",
       "3  [technology, gaming, programming]   \n",
       "\n",
       "                                         preferences posts  \n",
       "0  {'theme': 'light', 'notifications': {'email': ...    []  \n",
       "1  {'theme': 'dark', 'notifications': {'email': '...    []  \n",
       "2  {'theme': 'light', 'notifications': {'email': ...    []  \n",
       "3  {'theme': 'dark', 'notifications': {'email': '...    []  "
      ]
     },
     "execution_count": 23,
     "metadata": {},
     "output_type": "execute_result"
    }
   ],
   "source": [
    "df.head()"
   ]
  },
  {
   "cell_type": "code",
   "execution_count": 29,
   "metadata": {},
   "outputs": [],
   "source": [
    "data = df.to_json()"
   ]
  },
  {
   "cell_type": "code",
   "execution_count": 31,
   "metadata": {},
   "outputs": [
    {
     "name": "stdout",
     "output_type": "stream",
     "text": [
      "<class 'str'>\n"
     ]
    }
   ],
   "source": [
    "print(type(data))"
   ]
  },
  {
   "cell_type": "code",
   "execution_count": 24,
   "metadata": {},
   "outputs": [],
   "source": [
    "from langchain.document_loaders import DataFrameLoader"
   ]
  },
  {
   "cell_type": "code",
   "execution_count": 25,
   "metadata": {},
   "outputs": [],
   "source": [
    "loader = DataFrameLoader(df,page_content_column=df.columns[0])"
   ]
  },
  {
   "cell_type": "code",
   "execution_count": 26,
   "metadata": {},
   "outputs": [],
   "source": [
    "docs = loader.load()"
   ]
  },
  {
   "cell_type": "code",
   "execution_count": 27,
   "metadata": {},
   "outputs": [
    {
     "data": {
      "text/plain": [
       "[Document(page_content='1', metadata={'username': 'user1', 'full_name': 'Alice Johnson', 'email': 'alice@example.com', 'age': 28, 'gender': 'female', 'address': {'street': '456 Elm Street', 'city': 'Cityville', 'state': 'Stateville', 'zip_code': '54321'}, 'interests': ['travel', 'cooking', 'reading'], 'preferences': {'theme': 'light', 'notifications': {'email': 'true', 'push': 'false'}}, 'posts': []}),\n",
       " Document(page_content='2', metadata={'username': 'user2', 'full_name': 'Bob Smith', 'email': 'bob@example.com', 'age': 35, 'gender': 'male', 'address': {'street': '789 Oak Avenue', 'city': 'Townsville', 'state': 'Countyville', 'zip_code': '98765'}, 'interests': ['sports', 'music', 'gardening'], 'preferences': {'theme': 'dark', 'notifications': {'email': 'true', 'push': 'true'}}, 'posts': []}),\n",
       " Document(page_content='3', metadata={'username': 'user3', 'full_name': 'Eva Martinez', 'email': 'eva@example.com', 'age': 42, 'gender': 'female', 'address': {'street': '321 Pine Road', 'city': 'Villagetown', 'state': 'Villagestate', 'zip_code': '76543'}, 'interests': ['art', 'history', 'photography'], 'preferences': {'theme': 'light', 'notifications': {'email': 'true', 'push': 'false'}}, 'posts': []}),\n",
       " Document(page_content='4', metadata={'username': 'user4', 'full_name': 'David Lee', 'email': 'david@example.com', 'age': 30, 'gender': 'male', 'address': {'street': '101 Maple Lane', 'city': 'Woodville', 'state': 'Foreststate', 'zip_code': '12345'}, 'interests': ['technology', 'gaming', 'programming'], 'preferences': {'theme': 'dark', 'notifications': {'email': 'false', 'push': 'true'}}, 'posts': []})]"
      ]
     },
     "execution_count": 27,
     "metadata": {},
     "output_type": "execute_result"
    }
   ],
   "source": [
    "docs"
   ]
  },
  {
   "cell_type": "code",
   "execution_count": 34,
   "metadata": {},
   "outputs": [],
   "source": [
    "import pandas as pd\n",
    "import json\n",
    "from langchain.schema import Document\n",
    "\n",
    "data = json.load(open('data/users_profiles.json','r'))\n",
    "\n",
    "df = pd.DataFrame(data)\n",
    "\n",
    "res = json.loads(df.to_json(orient='records'))"
   ]
  },
  {
   "cell_type": "code",
   "execution_count": 35,
   "metadata": {},
   "outputs": [
    {
     "data": {
      "text/plain": [
       "[{'user_id': '1',\n",
       "  'username': 'user1',\n",
       "  'full_name': 'Alice Johnson',\n",
       "  'email': 'alice@example.com',\n",
       "  'age': 28,\n",
       "  'gender': 'female',\n",
       "  'address': {'street': '456 Elm Street',\n",
       "   'city': 'Cityville',\n",
       "   'state': 'Stateville',\n",
       "   'zip_code': '54321'},\n",
       "  'interests': ['travel', 'cooking', 'reading'],\n",
       "  'preferences': {'theme': 'light',\n",
       "   'notifications': {'email': True, 'push': False}},\n",
       "  'posts': []},\n",
       " {'user_id': '2',\n",
       "  'username': 'user2',\n",
       "  'full_name': 'Bob Smith',\n",
       "  'email': 'bob@example.com',\n",
       "  'age': 35,\n",
       "  'gender': 'male',\n",
       "  'address': {'street': '789 Oak Avenue',\n",
       "   'city': 'Townsville',\n",
       "   'state': 'Countyville',\n",
       "   'zip_code': '98765'},\n",
       "  'interests': ['sports', 'music', 'gardening'],\n",
       "  'preferences': {'theme': 'dark',\n",
       "   'notifications': {'email': True, 'push': True}},\n",
       "  'posts': []},\n",
       " {'user_id': '3',\n",
       "  'username': 'user3',\n",
       "  'full_name': 'Eva Martinez',\n",
       "  'email': 'eva@example.com',\n",
       "  'age': 42,\n",
       "  'gender': 'female',\n",
       "  'address': {'street': '321 Pine Road',\n",
       "   'city': 'Villagetown',\n",
       "   'state': 'Villagestate',\n",
       "   'zip_code': '76543'},\n",
       "  'interests': ['art', 'history', 'photography'],\n",
       "  'preferences': {'theme': 'light',\n",
       "   'notifications': {'email': True, 'push': False}},\n",
       "  'posts': []},\n",
       " {'user_id': '4',\n",
       "  'username': 'user4',\n",
       "  'full_name': 'David Lee',\n",
       "  'email': 'david@example.com',\n",
       "  'age': 30,\n",
       "  'gender': 'male',\n",
       "  'address': {'street': '101 Maple Lane',\n",
       "   'city': 'Woodville',\n",
       "   'state': 'Foreststate',\n",
       "   'zip_code': '12345'},\n",
       "  'interests': ['technology', 'gaming', 'programming'],\n",
       "  'preferences': {'theme': 'dark',\n",
       "   'notifications': {'email': False, 'push': True}},\n",
       "  'posts': []}]"
      ]
     },
     "execution_count": 35,
     "metadata": {},
     "output_type": "execute_result"
    }
   ],
   "source": [
    "res"
   ]
  },
  {
   "cell_type": "code",
   "execution_count": 36,
   "metadata": {},
   "outputs": [
    {
     "name": "stdout",
     "output_type": "stream",
     "text": [
      "{'user_id': '1', 'username': 'user1', 'full_name': 'Alice Johnson', 'email': 'alice@example.com', 'age': 28, 'gender': 'female', 'address': {'street': '456 Elm Street', 'city': 'Cityville', 'state': 'Stateville', 'zip_code': '54321'}, 'interests': ['travel', 'cooking', 'reading'], 'preferences': {'theme': 'light', 'notifications': {'email': True, 'push': False}}, 'posts': []}\n",
      "{'user_id': '2', 'username': 'user2', 'full_name': 'Bob Smith', 'email': 'bob@example.com', 'age': 35, 'gender': 'male', 'address': {'street': '789 Oak Avenue', 'city': 'Townsville', 'state': 'Countyville', 'zip_code': '98765'}, 'interests': ['sports', 'music', 'gardening'], 'preferences': {'theme': 'dark', 'notifications': {'email': True, 'push': True}}, 'posts': []}\n",
      "{'user_id': '3', 'username': 'user3', 'full_name': 'Eva Martinez', 'email': 'eva@example.com', 'age': 42, 'gender': 'female', 'address': {'street': '321 Pine Road', 'city': 'Villagetown', 'state': 'Villagestate', 'zip_code': '76543'}, 'interests': ['art', 'history', 'photography'], 'preferences': {'theme': 'light', 'notifications': {'email': True, 'push': False}}, 'posts': []}\n",
      "{'user_id': '4', 'username': 'user4', 'full_name': 'David Lee', 'email': 'david@example.com', 'age': 30, 'gender': 'male', 'address': {'street': '101 Maple Lane', 'city': 'Woodville', 'state': 'Foreststate', 'zip_code': '12345'}, 'interests': ['technology', 'gaming', 'programming'], 'preferences': {'theme': 'dark', 'notifications': {'email': False, 'push': True}}, 'posts': []}\n"
     ]
    }
   ],
   "source": [
    "for i in res:\n",
    "    print(i)"
   ]
  },
  {
   "cell_type": "code",
   "execution_count": 37,
   "metadata": {},
   "outputs": [],
   "source": [
    "if len(res):\n",
    "    docs = []\n",
    "    for i in res:\n",
    "        docs.append(Document(page_content=json.dumps(i),metadata={}))"
   ]
  },
  {
   "cell_type": "code",
   "execution_count": 38,
   "metadata": {},
   "outputs": [
    {
     "data": {
      "text/plain": [
       "[Document(page_content='{\"user_id\": \"1\", \"username\": \"user1\", \"full_name\": \"Alice Johnson\", \"email\": \"alice@example.com\", \"age\": 28, \"gender\": \"female\", \"address\": {\"street\": \"456 Elm Street\", \"city\": \"Cityville\", \"state\": \"Stateville\", \"zip_code\": \"54321\"}, \"interests\": [\"travel\", \"cooking\", \"reading\"], \"preferences\": {\"theme\": \"light\", \"notifications\": {\"email\": true, \"push\": false}}, \"posts\": []}', metadata={}),\n",
       " Document(page_content='{\"user_id\": \"2\", \"username\": \"user2\", \"full_name\": \"Bob Smith\", \"email\": \"bob@example.com\", \"age\": 35, \"gender\": \"male\", \"address\": {\"street\": \"789 Oak Avenue\", \"city\": \"Townsville\", \"state\": \"Countyville\", \"zip_code\": \"98765\"}, \"interests\": [\"sports\", \"music\", \"gardening\"], \"preferences\": {\"theme\": \"dark\", \"notifications\": {\"email\": true, \"push\": true}}, \"posts\": []}', metadata={}),\n",
       " Document(page_content='{\"user_id\": \"3\", \"username\": \"user3\", \"full_name\": \"Eva Martinez\", \"email\": \"eva@example.com\", \"age\": 42, \"gender\": \"female\", \"address\": {\"street\": \"321 Pine Road\", \"city\": \"Villagetown\", \"state\": \"Villagestate\", \"zip_code\": \"76543\"}, \"interests\": [\"art\", \"history\", \"photography\"], \"preferences\": {\"theme\": \"light\", \"notifications\": {\"email\": true, \"push\": false}}, \"posts\": []}', metadata={}),\n",
       " Document(page_content='{\"user_id\": \"4\", \"username\": \"user4\", \"full_name\": \"David Lee\", \"email\": \"david@example.com\", \"age\": 30, \"gender\": \"male\", \"address\": {\"street\": \"101 Maple Lane\", \"city\": \"Woodville\", \"state\": \"Foreststate\", \"zip_code\": \"12345\"}, \"interests\": [\"technology\", \"gaming\", \"programming\"], \"preferences\": {\"theme\": \"dark\", \"notifications\": {\"email\": false, \"push\": true}}, \"posts\": []}', metadata={})]"
      ]
     },
     "execution_count": 38,
     "metadata": {},
     "output_type": "execute_result"
    }
   ],
   "source": [
    "docs"
   ]
  },
  {
   "cell_type": "code",
   "execution_count": null,
   "metadata": {},
   "outputs": [],
   "source": []
  }
 ],
 "metadata": {
  "kernelspec": {
   "display_name": "Python 3",
   "language": "python",
   "name": "python3"
  },
  "language_info": {
   "codemirror_mode": {
    "name": "ipython",
    "version": 3
   },
   "file_extension": ".py",
   "mimetype": "text/x-python",
   "name": "python",
   "nbconvert_exporter": "python",
   "pygments_lexer": "ipython3",
   "version": "3.11.4"
  },
  "orig_nbformat": 4
 },
 "nbformat": 4,
 "nbformat_minor": 2
}
